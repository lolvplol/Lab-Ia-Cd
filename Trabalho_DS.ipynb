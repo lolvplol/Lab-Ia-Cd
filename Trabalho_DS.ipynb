{
 "cells": [
  {
   "attachments": {},
   "cell_type": "markdown",
   "id": "37b850e4",
   "metadata": {},
   "source": [
    "Analysis of ct images, and the nodules of the respective images to diagonose, wether or not the pacient has cancer."
   ]
  },
  {
   "cell_type": "code",
   "execution_count": 18,
   "id": "e450c95c",
   "metadata": {},
   "outputs": [],
   "source": [
    "#%pip install pydicom \n",
    "#%pip install xlrd\n",
    "#%pip install openpyxl\n",
    "from glob import glob\n",
    "import numpy as np\n",
    "import pandas as pd\n",
    "import pydicom as dcm\n"
   ]
  },
  {
   "cell_type": "code",
   "execution_count": 5,
   "id": "8b4056b8",
   "metadata": {},
   "outputs": [
    {
     "name": "stdout",
     "output_type": "stream",
     "text": [
      "All xls files found:\n"
     ]
    }
   ],
   "source": [
    "#só para verificar que os ficheiros estão no diretório / removivel\n",
    "files = glob(\"*.xls*\")\n",
    "print(\"All xls files found:\")\n",
    "for i in range(len(files)):\n",
    "    print(i, \"-\", files[i])"
   ]
  },
  {
   "cell_type": "code",
   "execution_count": 20,
   "id": "8784fd9f",
   "metadata": {},
   "outputs": [
    {
     "name": "stdout",
     "output_type": "stream",
     "text": [
      "Dataset.file_meta -------------------------------\n",
      "(0002, 0000) File Meta Information Group Length  UL: 206\n",
      "(0002, 0001) File Meta Information Version       OB: b'\\x00\\x01'\n",
      "(0002, 0002) Media Storage SOP Class UID         UI: CT Image Storage\n",
      "(0002, 0003) Media Storage SOP Instance UID      UI: 1.3.6.1.4.1.14519.5.2.1.6279.6001.262721256650280657946440242654\n",
      "(0002, 0010) Transfer Syntax UID                 UI: Explicit VR Little Endian\n",
      "(0002, 0012) Implementation Class UID            UI: 1.3.6.1.4.1.22213.1.143\n",
      "(0002, 0013) Implementation Version Name         SH: '0.5'\n",
      "(0002, 0016) Source Application Entity Title     AE: 'POSDA'\n",
      "-------------------------------------------------\n",
      "(0008, 0005) Specific Character Set              CS: 'ISO_IR 100'\n",
      "(0008, 0008) Image Type                          CS: ['ORIGINAL', 'PRIMARY', 'AXIAL']\n",
      "(0008, 0016) SOP Class UID                       UI: CT Image Storage\n",
      "(0008, 0018) SOP Instance UID                    UI: 1.3.6.1.4.1.14519.5.2.1.6279.6001.262721256650280657946440242654\n",
      "(0008, 0020) Study Date                          DA: '20000101'\n",
      "(0008, 0021) Series Date                         DA: '20000101'\n",
      "(0008, 0022) Acquisition Date                    DA: '20000101'\n",
      "(0008, 0023) Content Date                        DA: '20000101'\n",
      "(0008, 0024) Overlay Date                        DA: '20000101'\n",
      "(0008, 0025) Curve Date                          DA: '20000101'\n",
      "(0008, 002a) Acquisition DateTime                DT: '20000101'\n",
      "(0008, 0030) Study Time                          TM: ''\n",
      "(0008, 0032) Acquisition Time                    TM: ''\n",
      "(0008, 0033) Content Time                        TM: ''\n",
      "(0008, 0050) Accession Number                    SH: ''\n",
      "(0008, 0060) Modality                            CS: 'CT'\n",
      "(0008, 0070) Manufacturer                        LO: 'GE MEDICAL SYSTEMS'\n",
      "(0008, 0090) Referring Physician's Name          PN: ''\n",
      "(0008, 1090) Manufacturer's Model Name           LO: 'LightSpeed Plus'\n",
      "(0008, 1155) Referenced SOP Instance UID         UI: 1.3.6.1.4.1.14519.5.2.1.6279.6001.167780047448237579267150010168\n",
      "(0010, 0010) Patient's Name                      PN: ''\n",
      "(0010, 0020) Patient ID                          LO: 'LIDC-IDRI-0001'\n",
      "(0010, 0030) Patient's Birth Date                DA: ''\n",
      "(0010, 0040) Patient's Sex                       CS: ''\n",
      "(0010, 1010) Patient's Age                       AS: ''\n",
      "(0010, 21d0) Last Menstrual Date                 DA: '20000101'\n",
      "(0012, 0062) Patient Identity Removed            CS: 'YES'\n",
      "(0012, 0063) De-identification Method            LO: 'DCM:113100/113105/113107/113108/113109/113111'\n",
      "(0013, 0010) Private Creator                     LO: 'CTP'\n",
      "(0013, 1010) Private tag data                    LO: 'LIDC-IDRI'\n",
      "(0013, 1013) Private tag data                    LO: '62796001'\n",
      "(0018, 0010) Contrast/Bolus Agent                LO: 'IV'\n",
      "(0018, 0015) Body Part Examined                  CS: 'CHEST'\n",
      "(0018, 0022) Scan Options                        CS: 'HELICAL MODE'\n",
      "(0018, 0050) Slice Thickness                     DS: '2.5'\n",
      "(0018, 0060) KVP                                 DS: '120.0'\n",
      "(0018, 0090) Data Collection Diameter            DS: '500.0'\n",
      "(0018, 1020) Software Versions                   LO: 'LightSpeedApps2.4.2_H2.4M5'\n",
      "(0018, 1100) Reconstruction Diameter             DS: '360.0'\n",
      "(0018, 1110) Distance Source to Detector         DS: '949.075012'\n",
      "(0018, 1111) Distance Source to Patient          DS: '541.0'\n",
      "(0018, 1120) Gantry/Detector Tilt                DS: '0.0'\n",
      "(0018, 1130) Table Height                        DS: '144.399994'\n",
      "(0018, 1140) Rotation Direction                  CS: 'CW'\n",
      "(0018, 1150) Exposure Time                       IS: '570'\n",
      "(0018, 1151) X-Ray Tube Current                  IS: '400'\n",
      "(0018, 1152) Exposure                            IS: '4684'\n",
      "(0018, 1160) Filter Type                         SH: 'BODY FILTER'\n",
      "(0018, 1170) Generator Power                     IS: '48000'\n",
      "(0018, 1190) Focal Spot(s)                       DS: '1.2'\n",
      "(0018, 1210) Convolution Kernel                  SH: 'STANDARD'\n",
      "(0018, 5100) Patient Position                    CS: 'FFS'\n",
      "(0020, 000d) Study Instance UID                  UI: 1.3.6.1.4.1.14519.5.2.1.6279.6001.298806137288633453246975630178\n",
      "(0020, 000e) Series Instance UID                 UI: 1.3.6.1.4.1.14519.5.2.1.6279.6001.179049373636438705059720603192\n",
      "(0020, 0010) Study ID                            SH: ''\n",
      "(0020, 0011) Series Number                       IS: '3000566'\n",
      "(0020, 0013) Instance Number                     IS: '1'\n",
      "(0020, 0032) Image Position (Patient)            DS: [-166.000000, -171.699997, -10.000000]\n",
      "(0020, 0037) Image Orientation (Patient)         DS: [1.000000, 0.000000, 0.000000, 0.000000, 1.000000, 0.000000]\n",
      "(0020, 0052) Frame of Reference UID              UI: 1.3.6.1.4.1.14519.5.2.1.6279.6001.229925374658226729607867499499\n",
      "(0020, 1040) Position Reference Indicator        LO: 'SN'\n",
      "(0020, 1041) Slice Location                      DS: '-10.0'\n",
      "(0028, 0002) Samples per Pixel                   US: 1\n",
      "(0028, 0004) Photometric Interpretation          CS: 'MONOCHROME2'\n",
      "(0028, 0010) Rows                                US: 512\n",
      "(0028, 0011) Columns                             US: 512\n",
      "(0028, 0030) Pixel Spacing                       DS: [0.703125, 0.703125]\n",
      "(0028, 0100) Bits Allocated                      US: 16\n",
      "(0028, 0101) Bits Stored                         US: 16\n",
      "(0028, 0102) High Bit                            US: 15\n",
      "(0028, 0103) Pixel Representation                US: 1\n",
      "(0028, 0120) Pixel Padding Value                 US: 63536\n",
      "(0028, 0303) Longitudinal Temporal Information M CS: 'MODIFIED'\n",
      "(0028, 1050) Window Center                       DS: '-600.0'\n",
      "(0028, 1051) Window Width                        DS: '1600.0'\n",
      "(0028, 1052) Rescale Intercept                   DS: '-1024.0'\n",
      "(0028, 1053) Rescale Slope                       DS: '1.0'\n",
      "(0038, 0020) Admitting Date                      DA: '20000101'\n",
      "(0040, 0002) Scheduled Procedure Step Start Date DA: '20000101'\n",
      "(0040, 0004) Scheduled Procedure Step End Date   DA: '20000101'\n",
      "(0040, 0244) Performed Procedure Step Start Date DA: '20000101'\n",
      "(0040, 2016) Placer Order Number / Imaging Servi LO: ''\n",
      "(0040, 2017) Filler Order Number / Imaging Servi LO: ''\n",
      "(0040, a075) Verifying Observer Name             PN: 'Removed by CTP'\n",
      "(0040, a123) Person Name                         PN: 'Removed by CTP'\n",
      "(0040, a124) UID                                 UI: 1.3.6.1.4.1.14519.5.2.1.6279.6001.242033371867591328384552261733\n",
      "(0070, 0084) Content Creator's Name              PN: ''\n",
      "(0088, 0140) Storage Media File-set UID          UI: 1.3.6.1.4.1.14519.5.2.1.6279.6001.286658939037720062103202200222\n",
      "(7fe0, 0010) Pixel Data                          OW: Array of 524288 elements\n"
     ]
    }
   ],
   "source": [
    "table = dcm.dcmread(\"C:/Users/duart/Desktop/Dataset/manifest-1600709154662/LIDC-IDRI/LIDC-IDRI-0001/01-01-2000-NA-NA-30178/3000566.000000-NA-03192/1-001.dcm\")\n",
    "\n",
    "print(table)\n",
    "#Pixel Array here\n",
    "pixel_array = table.pixel_array\n",
    "\n",
    "# Normalize pixel_array\n",
    "normalized = pixel_array.astype(np.float32) / pixel_array.max()"
   ]
  },
  {
   "cell_type": "code",
   "execution_count": 23,
   "id": "53a04cd5",
   "metadata": {},
   "outputs": [
    {
     "data": {
      "text/plain": [
       "'\\nds_diagnosis = pd.read_excel(\"tcia-diagnosis-data-2012-04-20.xls\")\\nds_nodule_counts = pd.read_excel(\"lidc-idri nodule counts (6-23-2015).xlsx\")\\n\\n#juntar os datasets\\nindex1 = ds_diagnosis.columns.get_loc(\"TCIA Patient ID\")\\nindex2 = ds_nodule_counts.columns.get_loc(\"TCIA Patent ID\")\\n\\nds = pd.merge(ds_diagnosis, ds_nodule_counts, left_on=ds_diagnosis.columns[index1], right_on=ds_nodule_counts.columns[index2], how=\"outer\")\\n\\n#dropar rows com 0 nodules >= 3mm aka não são cancerosos\\nindexes = ds[ds[\"Number of Nodules >=3mm**\"] == 0].index\\nds.drop(indexes)\\n'"
      ]
     },
     "execution_count": 23,
     "metadata": {},
     "output_type": "execute_result"
    }
   ],
   "source": [
    "'''\n",
    "ds_diagnosis = pd.read_excel(\"tcia-diagnosis-data-2012-04-20.xls\")\n",
    "ds_nodule_counts = pd.read_excel(\"lidc-idri nodule counts (6-23-2015).xlsx\")\n",
    "\n",
    "#juntar os datasets\n",
    "index1 = ds_diagnosis.columns.get_loc(\"TCIA Patient ID\")\n",
    "index2 = ds_nodule_counts.columns.get_loc(\"TCIA Patent ID\")\n",
    "\n",
    "ds = pd.merge(ds_diagnosis, ds_nodule_counts, left_on=ds_diagnosis.columns[index1], right_on=ds_nodule_counts.columns[index2], how=\"outer\")\n",
    "\n",
    "#dropar rows com 0 nodules >= 3mm aka não são cancerosos\n",
    "indexes = ds[ds[\"Number of Nodules >=3mm**\"] == 0].index\n",
    "ds.drop(indexes)\n",
    "'''"
   ]
  },
  {
   "cell_type": "code",
   "execution_count": null,
   "id": "7856648b",
   "metadata": {},
   "outputs": [],
   "source": []
  }
 ],
 "metadata": {
  "kernelspec": {
   "display_name": "Python 3 (ipykernel)",
   "language": "python",
   "name": "python3"
  },
  "language_info": {
   "codemirror_mode": {
    "name": "ipython",
    "version": 3
   },
   "file_extension": ".py",
   "mimetype": "text/x-python",
   "name": "python",
   "nbconvert_exporter": "python",
   "pygments_lexer": "ipython3",
   "version": "3.10.11"
  }
 },
 "nbformat": 4,
 "nbformat_minor": 5
}
